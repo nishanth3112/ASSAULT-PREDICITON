{
  "cells": [
    {
      "cell_type": "code",
      "execution_count": null,
      "metadata": {
        "colab": {
          "base_uri": "https://localhost:8080/"
        },
        "id": "3WYkEKe5z1Ie",
        "outputId": "11a99ec4-b3cc-4289-eba2-eb51a916c9fd"
      },
      "outputs": [
        {
          "output_type": "stream",
          "name": "stdout",
          "text": [
            "Mounted at /content/drive\n"
          ]
        }
      ],
      "source": [
        "from google.colab import drive\n",
        "drive.mount('/content/drive')"
      ]
    },
    {
      "cell_type": "code",
      "execution_count": null,
      "metadata": {
        "id": "O1li9Gjy9JY1"
      },
      "outputs": [],
      "source": [
        "!unzip /content/drive/MyDrive/public_assault/dataset/violence.zip -d .\n",
        "!unzip /content/drive/MyDrive/public_assault/dataset/handclapping.zip -d handclapping\n",
        "!unzip /content/drive/MyDrive/public_assault/dataset/handwaving.zip  -d handwaving\n",
        "!unzip /content/drive/MyDrive/public_assault/dataset/jogging.zip   -d jogging\n",
        "!unzip /content/drive/MyDrive/public_assault/dataset/running.zip  -d running\n",
        "!unzip /content/drive/MyDrive/public_assault/dataset/walking.zip  -d walking"
      ]
    },
    {
      "cell_type": "code",
      "execution_count": null,
      "metadata": {
        "id": "DeRPCsh2gw3M",
        "colab": {
          "base_uri": "https://localhost:8080/"
        },
        "outputId": "dc793475-87c0-4462-aabb-bdcc6d33ab4b"
      },
      "outputs": [
        {
          "output_type": "stream",
          "name": "stdout",
          "text": [
            "Looking in indexes: https://pypi.org/simple, https://us-python.pkg.dev/colab-wheels/public/simple/\n",
            "Requirement already satisfied: imageio-ffmpeg in /usr/local/lib/python3.10/dist-packages (0.4.8)\n"
          ]
        }
      ],
      "source": [
        "!pip install imageio-ffmpeg"
      ]
    },
    {
      "cell_type": "code",
      "source": [
        "from PIL import Image\n",
        "import numpy as np\n"
      ],
      "metadata": {
        "id": "pX0B4PaJU7as"
      },
      "execution_count": null,
      "outputs": []
    },
    {
      "cell_type": "code",
      "execution_count": null,
      "metadata": {
        "id": "2QoyTQx-SByZ"
      },
      "outputs": [],
      "source": [
        "import numpy as np\n",
        "import cv2\n",
        "import os\n",
        "import pickle\n",
        "import PIL\n",
        "import re\n",
        "from PIL import Image\n",
        "import imageio\n",
        "from skimage.transform import resize\n",
        "from keras.models import load_model"
      ]
    },
    {
      "cell_type": "code",
      "execution_count": null,
      "metadata": {
        "id": "NNIyxAQGSMwW"
      },
      "outputs": [],
      "source": [
        "CATEGORIES = [\n",
        "    \"violence\",\n",
        "    \"handclapping\",\n",
        "    \"handwaving\",\n",
        "    \"jogging\",\n",
        "    \"running\",\n",
        "    \"walking\"\n",
        "]\n",
        "IMG_W_ORIGINAL = 120\n",
        "IMG_H_ORIGINAL = 160\n",
        "IMG_W = 60\n",
        "IMG_H = 80\n",
        "CHANNELS = 1\n",
        "SEQ_LEN = 30\n",
        "SPACIALNET_INPUT_SHAPE = (SEQ_LEN, IMG_W, IMG_H, CHANNELS)\n",
        "TEMPORALNET_INPUT_SHAPE = (SEQ_LEN-1, IMG_W//2, IMG_H//2, CHANNELS)\n",
        "TEMPORALNET_INPUT_SHAPE_2x = (2 * (SEQ_LEN-1), IMG_W//2, IMG_H//2, CHANNELS)\n",
        "NCLASSES = 6"
      ]
    },
    {
      "cell_type": "code",
      "execution_count": null,
      "metadata": {
        "id": "0mH88WFy_QF0"
      },
      "outputs": [],
      "source": [
        "Train_Id = [1,4,6,7,8,10,11,13,14,15,16,17,18,19,21,22,23]\n",
        "Validation_Id = [2,5,9,20,24,25]\n",
        "Test_Id = [3,12]"
      ]
    },
    {
      "cell_type": "code",
      "execution_count": null,
      "metadata": {
        "id": "v-ovhKSYy96m"
      },
      "outputs": [],
      "source": [
        "def clean_sequence_file():\n",
        "    print(\"Cleaning dataset/00sequences.txt ...\")\n",
        "\n",
        "    # Read 00sequences.txt file.\n",
        "    with open(\"/content/drive/MyDrive/public_assault/00sequences.txt\", 'r') as content_file:\n",
        "      for _ in range(20): # Skiping first 20 lines of sequences file (instruction details).\n",
        "        next(content_file)\n",
        "      content = content_file.read()\n",
        "\n",
        "    # Replace tab and newline character with space, then split file's content\n",
        "    # into strings.\n",
        "    content = re.sub(\"[\\t\\n]\", \" \", content).split()\n",
        "\n",
        "    # Dictionary to keep ranges of frames with humans.\n",
        "    # Example:\n",
        "    # video \"person01_boxing_d1\": [(1, 95), (96, 185), (186, 245), (246, 360)].\n",
        "    frames_idx = {}\n",
        "\n",
        "    # Current video that we are parsing.\n",
        "    current_filename = \"\"\n",
        "\n",
        "    for s in content:\n",
        "        if s == \"frames\":\n",
        "            # Ignore this token.\n",
        "            continue\n",
        "        elif s.find(\"-\") >= 0:\n",
        "            # This is the token we are looking for. e.g. 1-95.\n",
        "            if s[len(s) - 1] == ',':\n",
        "                # Remove comma.\n",
        "                s = s[:-1]\n",
        "\n",
        "            # Split into 2 numbers => [1, 95]\n",
        "            idx = s.split(\"-\")\n",
        "\n",
        "            # Add to dictionary.\n",
        "            if not current_filename in frames_idx:\n",
        "                frames_idx[current_filename] = []\n",
        "            frames_idx[current_filename].append((int(idx[0]), int(idx[1])))\n",
        "        else:\n",
        "            # Parse next file.\n",
        "            current_filename = s + \"_uncomp.avi\"\n",
        "\n",
        "    return frames_idx\n"
      ]
    },
    {
      "cell_type": "markdown",
      "source": [
        "# Pixel feature extraction"
      ],
      "metadata": {
        "id": "dBjdjlZFX59c"
      }
    },
    {
      "cell_type": "code",
      "execution_count": null,
      "metadata": {
        "id": "_OaMm8i8ykCd"
      },
      "outputs": [],
      "source": [
        "def prepare_dataset(dataset=\"train\", sequences=None):\n",
        "    if dataset == \"train\":\n",
        "        ID = Train_Id\n",
        "    elif dataset == \"dev\":\n",
        "        ID = Validation_Id\n",
        "    else:\n",
        "        ID = Test_Id\n",
        "\n",
        "    if sequences == None:\n",
        "      frames_idx = clean_sequence_file()\n",
        "    else:\n",
        "      frames_idx = sequences\n",
        "\n",
        "    data = []\n",
        "    for category in CATEGORIES:\n",
        "        if category == \"violence\":\n",
        "            # Get all files in current category's folder.\n",
        "            folder_path = os.path.join(\"/content/\"+\"picked_dataset/\" +category)\n",
        "            filenames = sorted(os.listdir(folder_path))\n",
        "\n",
        "            for filename in filenames:\n",
        "                if filename == \".ipynb_checkpoints\":\n",
        "                    continue\n",
        "                filepath =\"/content/\"+\"picked_dataset/\"+category+\"/\"+filename\n",
        "\n",
        "                vid = imageio.get_reader(filepath, \"ffmpeg\")\n",
        "\n",
        "                frames = []\n",
        "\n",
        "                # Add each frame to correct list.\n",
        "                for i, frame in enumerate(vid):\n",
        "                    # Boolean flag to check if current frame contains human.\n",
        "                    frame = cv2.resize(frame, (120, 160))\n",
        "\n",
        "\n",
        "                    # Convert to grayscale.\n",
        "\n",
        "                    frame = Image.fromarray(np.array(frame))\n",
        "                    frame = frame.convert(\"L\")\n",
        "                    frame = np.array(frame.getdata(),\n",
        "                                    dtype=np.uint8).reshape((120, 160))\n",
        "                    frame = cv2.resize(frame, (60, 80))\n",
        "\n",
        "                    frames.append(frame)\n",
        "\n",
        "                data.append({\n",
        "                    \"filename\": filename,\n",
        "                    \"category\": category,\n",
        "                    \"frames\": frames\n",
        "            })\n",
        "        else:\n",
        "             # Get all files in current category's folder.\n",
        "            folder_path = os.path.join(\"/content/\"+\"picked_dataset/\"+category)\n",
        "            filenames = sorted(os.listdir(folder_path))\n",
        "\n",
        "            for filename in filenames:\n",
        "                filepath =\"/content/\"+\"picked_dataset/\"+category+\"/\"+filename\n",
        "\n",
        "                # Get id of person in this video.\n",
        "                person_id = int(filename.split(\"_\")[0][6:])\n",
        "                if person_id not in ID:\n",
        "                    continue\n",
        "\n",
        "                vid = imageio.get_reader(filepath, \"ffmpeg\")\n",
        "\n",
        "                frames = []\n",
        "\n",
        "                # Add each frame to correct list.\n",
        "                for i, frame in enumerate(vid):\n",
        "                    # Boolean flag to check if current frame contains human.\n",
        "                    ok = False\n",
        "                    for seg in frames_idx[filename]:\n",
        "                        if i >= seg[0] and i <= seg[1]:\n",
        "                            ok = True\n",
        "                            break\n",
        "                    if not ok:\n",
        "                        continue\n",
        "\n",
        "                    # Convert to grayscale.\n",
        "                    frame = Image.fromarray(np.array(frame))\n",
        "                    frame = frame.convert(\"L\")\n",
        "                    frame = np.array(frame.getdata(),\n",
        "                                    dtype=np.uint8).reshape((120, 160))\n",
        "                    frame = cv2.resize(frame, (60, 80))\n",
        "\n",
        "                    frames.append(frame)\n",
        "\n",
        "                data.append({\n",
        "                    \"filename\": filename,\n",
        "                    \"category\": category,\n",
        "                    \"frames\": frames\n",
        "            })\n",
        "\n",
        "\n",
        "    pickle.dump(data, open(\"/content/drive/MyDrive/public_assault/pixel_feature/%s.p\" % dataset, \"wb+\"))\n"
      ]
    },
    {
      "cell_type": "code",
      "execution_count": null,
      "metadata": {
        "id": "GyL3ice-yj53",
        "colab": {
          "base_uri": "https://localhost:8080/"
        },
        "outputId": "120e3e67-491d-46c2-cdb6-064a54428baa"
      },
      "outputs": [
        {
          "output_type": "stream",
          "name": "stdout",
          "text": [
            "Cleaning dataset/00sequences.txt ...\n",
            "Preparing train dataset ...\n",
            "Preparing dev dataset ...\n",
            "Preparing test dataset ...\n"
          ]
        }
      ],
      "source": [
        "extracted_sequences = clean_sequence_file()\n",
        "print(\"Preparing train dataset ...\")\n",
        "prepare_dataset(dataset=\"train\", sequences=extracted_sequences)\n",
        "print(\"Preparing dev dataset ...\")\n",
        "prepare_dataset(dataset=\"dev\", sequences=extracted_sequences)\n",
        "print(\"Preparing test dataset ...\")\n",
        "prepare_dataset(dataset=\"test\", sequences=extracted_sequences)"
      ]
    },
    {
      "cell_type": "code",
      "execution_count": null,
      "metadata": {
        "colab": {
          "base_uri": "https://localhost:8080/"
        },
        "id": "NxMIAso9yjsq",
        "outputId": "0898236b-1093-4b06-ef42-103fe5a191ed"
      },
      "outputs": [
        {
          "output_type": "stream",
          "name": "stdout",
          "text": [
            "Loading dataset ..\n"
          ]
        }
      ],
      "source": [
        "\n",
        "print(\"Loading dataset ..\")\n",
        "train_videos = pickle.load(open(\"/content/drive/MyDrive/public_assault/pixel_feature/train.p\", \"rb\"))\n",
        "validation_videos = pickle.load(open(\"/content/drive/MyDrive/public_assault/pixel_feature/dev.p\", \"rb\"))\n",
        "test_videos = pickle.load(open(\"/content/drive/MyDrive/public_assault/pixel_feature/test.p\", \"rb\"))\n"
      ]
    },
    {
      "cell_type": "markdown",
      "source": [
        "# Optical flow feature extraction"
      ],
      "metadata": {
        "id": "nrq9v_AtXzdb"
      }
    },
    {
      "cell_type": "code",
      "execution_count": null,
      "metadata": {
        "id": "GQOAMvtHyjcW"
      },
      "outputs": [],
      "source": [
        "def extract_optflow(dataset=\"train\"):\n",
        "    if dataset == \"train\":\n",
        "        ID = Train_Id\n",
        "    elif dataset == \"dev\":\n",
        "        ID = Validation_Id\n",
        "    else:\n",
        "        ID = Test_Id\n",
        "\n",
        "    # Setup parameters for optical flow.\n",
        "    farneback_params = dict(\n",
        "        winsize=20, iterations=1,\n",
        "        flags=cv2.OPTFLOW_FARNEBACK_GAUSSIAN, levels=1,\n",
        "        pyr_scale=0.5, poly_n=5, poly_sigma=1.1, flow=None)\n",
        "\n",
        "    frames_idx = clean_sequence_file()\n",
        "\n",
        "    data = []\n",
        "\n",
        "    for category in CATEGORIES:\n",
        "        if category == \"violence\":\n",
        "            folder_path = os.path.join(\"/content/\"+\"picked_dataset/\" +category)\n",
        "            filenames = sorted(os.listdir(folder_path))\n",
        "\n",
        "            for filename in filenames:\n",
        "                if filename == \".ipynb_checkpoints\":\n",
        "                    continue\n",
        "                filepath =\"/content/\"+\"picked_dataset/\"+category+\"/\"+filename\n",
        "\n",
        "                vid = imageio.get_reader(filepath, \"ffmpeg\")\n",
        "\n",
        "                flow_x = []\n",
        "                flow_y = []\n",
        "\n",
        "                prev_frame = None\n",
        "                for i, frame in enumerate(vid):\n",
        "\n",
        "                    frame = cv2.resize(frame, (120, 160))\n",
        "                    # Convert to grayscale.\n",
        "                    frame = Image.fromarray(np.array(frame))\n",
        "                    frame = frame.convert(\"L\")\n",
        "                    frame = np.array(frame.getdata(),\n",
        "                                    dtype=np.uint8).reshape((IMG_W_ORIGINAL, IMG_H_ORIGINAL))\n",
        "                    frame = resize(frame, (IMG_W, IMG_H))\n",
        "                    if prev_frame is not None:\n",
        "                        # Calculate optical flow.\n",
        "                        flows = cv2.calcOpticalFlowFarneback(prev_frame, frame,\n",
        "                                                            **farneback_params)\n",
        "\n",
        "                        # Subsampling optical flow by half (due to memory usage problems).\n",
        "                        subsampled_x = np.zeros((IMG_W//2, IMG_H//2), dtype=np.float32)\n",
        "                        subsampled_y = np.zeros((IMG_W//2, IMG_H//2), dtype=np.float32)\n",
        "                        for r in range(IMG_W//2):\n",
        "                            for c in range(IMG_H//2):\n",
        "                                subsampled_x[r, c] = flows[r*2, c*2, 0]\n",
        "                                subsampled_y[r, c] = flows[r*2, c*2, 1]\n",
        "\n",
        "                        flow_x.append(subsampled_x)\n",
        "                        flow_y.append(subsampled_y)\n",
        "\n",
        "                    prev_frame = frame\n",
        "\n",
        "                data.append({\n",
        "                    \"filename\": filename,\n",
        "                    \"category\": category,\n",
        "                    \"flow_x\": flow_x,\n",
        "                    \"flow_y\": flow_y\n",
        "                })\n",
        "        else:\n",
        "            folder_path = os.path.join(\"/content/\"+\"picked_dataset/\" +category)\n",
        "            filenames = sorted(os.listdir(folder_path))\n",
        "\n",
        "            for filename in filenames:\n",
        "                filepath =\"/content/\"+\"picked_dataset/\"+category+\"/\"+filename\n",
        "\n",
        "                person_id = int(filename.split(\"_\")[0][6:])\n",
        "                if person_id not in ID:\n",
        "                    continue\n",
        "\n",
        "                vid = imageio.get_reader(filepath, \"ffmpeg\")\n",
        "\n",
        "                flow_x = []\n",
        "                flow_y = []\n",
        "\n",
        "                prev_frame = None\n",
        "                for i, frame in enumerate(vid):\n",
        "                    ok = False\n",
        "                    for seg in frames_idx[filename]:\n",
        "                        if i >= seg[0] and i <= seg[1]:\n",
        "                            ok = True\n",
        "                            break\n",
        "                    if not ok:\n",
        "                        continue\n",
        "\n",
        "                    # Convert to grayscale.\n",
        "                    frame = Image.fromarray(np.array(frame))\n",
        "                    frame = frame.convert(\"L\")\n",
        "                    frame = np.array(frame.getdata(),\n",
        "                                    dtype=np.uint8).reshape((IMG_W_ORIGINAL, IMG_H_ORIGINAL))\n",
        "                    frame = resize(frame, (IMG_W, IMG_H))\n",
        "\n",
        "                    if prev_frame is not None:\n",
        "                        # Calculate optical flow.\n",
        "                        flows = cv2.calcOpticalFlowFarneback(prev_frame, frame,\n",
        "                                                            **farneback_params)\n",
        "\n",
        "                        # Subsampling optical flow by half (due to memory usage problems).\n",
        "                        subsampled_x = np.zeros((IMG_W//2, IMG_H//2), dtype=np.float32)\n",
        "                        subsampled_y = np.zeros((IMG_W//2, IMG_H//2), dtype=np.float32)\n",
        "                        for r in range(IMG_W//2):\n",
        "                            for c in range(IMG_H//2):\n",
        "                                subsampled_x[r, c] = flows[r*2, c*2, 0]\n",
        "                                subsampled_y[r, c] = flows[r*2, c*2, 1]\n",
        "\n",
        "                        flow_x.append(subsampled_x)\n",
        "                        flow_y.append(subsampled_y)\n",
        "\n",
        "                    prev_frame = frame\n",
        "\n",
        "                data.append({\n",
        "                    \"filename\": filename,\n",
        "                    \"category\": category,\n",
        "                    \"flow_x\": flow_x,\n",
        "                    \"flow_y\": flow_y\n",
        "                })\n",
        "\n",
        "\n",
        "    pickle.dump(data, open(\"/content/drive/MyDrive/public_assault/temporal_feature/%s_flow.p\" % dataset, \"wb\"))"
      ]
    },
    {
      "cell_type": "code",
      "execution_count": null,
      "metadata": {
        "id": "OMMhbkUTyjYM"
      },
      "outputs": [],
      "source": [
        "print(\"Extracting train optflow ...\")\n",
        "extract_optflow(dataset=\"train\")\n",
        "print(\"Extracting dev optflow ...\")\n",
        "extract_optflow(dataset=\"dev\")\n",
        "print(\"Extracting test optflow ...\")\n",
        "extract_optflow(dataset=\"test\")"
      ]
    },
    {
      "cell_type": "code",
      "execution_count": null,
      "metadata": {
        "id": "DgRY7NRxyjUk"
      },
      "outputs": [],
      "source": [
        "def read_ds(ds=\"train\", separate_each_video=False):\n",
        "  if(ds == \"dev\"):\n",
        "    videos = validation_videos\n",
        "    video_flows = pickle.load(open(\"/content/drive/MyDrive/public_assault/temporal_feature/dev_flow.p\", \"rb\"))\n",
        "  elif (ds == \"test\"):\n",
        "    videos = test_videos\n",
        "    video_flows = pickle.load(open(\"/content/drive/MyDrive/public_assault/temporal_feature/test_flow.p\", \"rb\"))\n",
        "  else:\n",
        "    videos = train_videos\n",
        "    video_flows = pickle.load(open(\"/content/drive/MyDrive/public_assault/temporal_feature/train_flow.p\", \"rb\"))\n",
        "\n",
        "  mean_frames = 0\n",
        "  mean_flow_x = 0\n",
        "  mean_flow_y = 0\n",
        "\n",
        "  X = []\n",
        "  y = []\n",
        "  i=0\n",
        "  X_per_video = []\n",
        "  y_per_video = []\n",
        "  print(\"total videos : %s\" % len(videos))\n",
        "\n",
        "  for video_index in range(len(videos)):\n",
        "    seq_frame = []\n",
        "    seq_flow_x = []\n",
        "    seq_flow_y = []\n",
        "\n",
        "    frames = videos[video_index][\"frames\"]\n",
        "    flow_x = [0] + video_flows[video_index][\"flow_x\"]\n",
        "    flow_y = [0] + video_flows[video_index][\"flow_y\"]\n",
        "\n",
        "    for frame_index in range(len(frames)):\n",
        "      seq_frame.append(frames[frame_index])\n",
        "\n",
        "      if frame_index % SEQ_LEN > 0:\n",
        "        seq_flow_x.append(flow_x[frame_index])\n",
        "        seq_flow_y.append(flow_y[frame_index])\n",
        "\n",
        "      if (frame_index + 1) % SEQ_LEN == 0:\n",
        "        #print(seq_flow_x)\n",
        "        seq_frame = np.array(seq_frame, dtype=np.float32).reshape(SPACIALNET_INPUT_SHAPE)\n",
        "        seq_flow_x = np.array(seq_flow_x, dtype=np.float32).reshape(TEMPORALNET_INPUT_SHAPE)\n",
        "        seq_flow_y = np.array(seq_flow_y, dtype=np.float32).reshape(TEMPORALNET_INPUT_SHAPE)\n",
        "\n",
        "        mean_frames += np.mean(seq_frame)\n",
        "        mean_flow_x += np.mean(seq_flow_x)\n",
        "        mean_flow_y += np.mean(seq_flow_y)\n",
        "\n",
        "        X.append({\n",
        "            \"frames\": seq_frame,\n",
        "            \"flow_x\": seq_flow_x,\n",
        "            \"flow_y\": seq_flow_y\n",
        "        })\n",
        "\n",
        "        y.append(\n",
        "            CATEGORIES.index(videos[video_index][\"category\"]))\n",
        "\n",
        "        seq_frame = []\n",
        "        seq_flow_x = []\n",
        "        seq_flow_y = []\n",
        "\n",
        "\n",
        "    if(separate_each_video):\n",
        "      X_per_video.append(np.array(X))\n",
        "      y_per_video.append(np.array(y, dtype=np.uint8))\n",
        "      X = []\n",
        "      y = []\n",
        "\n",
        "  mean_frames /= len(X)\n",
        "  mean_flow_x /= len(X)\n",
        "  mean_flow_y /= len(X)\n",
        "\n",
        "  mean = {\n",
        "      \"frames\": mean_frames,\n",
        "      \"flow_x\": mean_flow_x,\n",
        "      \"flow_y\": mean_flow_y\n",
        "  }\n",
        "\n",
        "  if(separate_each_video):\n",
        "     return np.array(X_per_video), np.array(y_per_video), mean\n",
        "\n",
        "  y = np.array(y, dtype=np.uint8)\n",
        "  return X, y, mean\n"
      ]
    },
    {
      "cell_type": "code",
      "execution_count": null,
      "metadata": {
        "colab": {
          "base_uri": "https://localhost:8080/"
        },
        "id": "TaVrh6ggyjP3",
        "outputId": "7d1ce808-ccb2-4a35-f689-e121d684e121"
      },
      "outputs": [
        {
          "output_type": "stream",
          "name": "stdout",
          "text": [
            "total videos : 399\n",
            "total videos : 240\n",
            "total videos : 160\n"
          ]
        }
      ],
      "source": [
        "X_train_data, y_train, X_train_data_mean = read_ds(ds=\"train\")\n",
        "X_dev_data, y_dev, X_dev_data_mean = read_ds(ds=\"dev\")\n",
        "X_test_data, y_test, X_test_data_mean= read_ds(ds=\"test\")"
      ]
    },
    {
      "cell_type": "code",
      "execution_count": null,
      "metadata": {
        "id": "yDWBIV_9D7Ev"
      },
      "outputs": [],
      "source": [
        "X_train, train_flow_x, train_flow_y = np.array([ _['frames'] for _ in X_train_data]), np.array([ _['flow_x'] for _ in X_train_data]), np.array([ _['flow_y'] for _ in X_train_data])\n",
        "X_dev, dev_flow_x, dev_flow_y = np.array([ _['frames'] for _ in X_dev_data]), np.array([ _['flow_x'] for _ in X_dev_data]), np.array([ _['flow_y'] for _ in X_dev_data])\n",
        "X_test, test_flow_x, test_flow_y = np.array([ _['frames'] for _ in X_test_data]), np.array([ _['flow_x'] for _ in X_test_data]), np.array([ _['flow_y'] for _ in X_test_data])\n"
      ]
    },
    {
      "cell_type": "markdown",
      "metadata": {
        "id": "_6kkCg1AUkT7"
      },
      "source": [
        "Visualize the data"
      ]
    },
    {
      "cell_type": "code",
      "execution_count": null,
      "metadata": {
        "colab": {
          "base_uri": "https://localhost:8080/",
          "height": 888
        },
        "id": "k-iKXIlrUme7",
        "outputId": "380c45ba-a5af-4918-808a-c9274091ee94"
      },
      "outputs": [
        {
          "output_type": "stream",
          "name": "stdout",
          "text": [
            "[1487]\n",
            "(1, 3, 30, 40, 1)\n",
            "----------------------------------------------------------------------------------------------------\n",
            "Grayscale Images : \n"
          ]
        },
        {
          "output_type": "display_data",
          "data": {
            "text/plain": [
              "<Figure size 1152x864 with 3 Axes>"
            ],
            "image/png": "[encoded data removed]"
          },
          "metadata": {
            "needs_background": "light"
          }
        },
        {
          "output_type": "stream",
          "name": "stdout",
          "text": [
            "----------------------------------------------------------------------------------------------------\n",
            "Farneback Flow x Images : \n"
          ]
        },
        {
          "output_type": "display_data",
          "data": {
            "text/plain": [
              "<Figure size 1152x864 with 3 Axes>"
            ],
            "image/png": "[encoded data removed]"
          },
          "metadata": {
            "needs_background": "light"
          }
        },
        {
          "output_type": "stream",
          "name": "stdout",
          "text": [
            "----------------------------------------------------------------------------------------------------\n",
            "Farneback Flow y Images : \n"
          ]
        },
        {
          "output_type": "display_data",
          "data": {
            "text/plain": [
              "<Figure size 1152x864 with 3 Axes>"
            ],
            "image/png": "[encoded data removed]"
          },
          "metadata": {
            "needs_background": "light"
          }
        }
      ],
      "source": [
        "import matplotlib.pyplot as plt\n",
        "\n",
        "def show_images(images, cols = 1, titles = None):\n",
        "    assert((titles is None) or (len(images) == len(titles)))\n",
        "    n_images = len(images)\n",
        "    if titles is None: titles = ['Image (%d)' % i for i in range(1,n_images + 1)]\n",
        "    fig = plt.figure(figsize=(16,12))\n",
        "    for n, (image, title) in enumerate(zip(images, titles)):\n",
        "        a = fig.add_subplot(cols, int(np.ceil(n_images/float(cols))), n + 1)\n",
        "        if image.ndim == 2:\n",
        "            plt.gray()\n",
        "        plt.imshow(image)\n",
        "        a.set_title(title)\n",
        "    #fig.set_size_inches(np.array(fig.get_size_inches()) * n_images)\n",
        "    plt.show()\n",
        "\n",
        "\n",
        "\n",
        "imgs_samples_size = 1\n",
        "imgs_samples = np.random.randint(X_train.shape[0] - 1, size=imgs_samples_size)\n",
        "imgs_per_samples = 3\n",
        "\n",
        "imgs_gray_class = []\n",
        "imgs_gray = []\n",
        "imgs_flow_x = []\n",
        "imgs_flow_y = []\n",
        "for i in range(len(imgs_samples)):\n",
        "  imgs_gray.append(X_train[imgs_samples[i]][0:SEQ_LEN:SEQ_LEN//imgs_per_samples])\n",
        "  imgs_flow_x.append(train_flow_x[imgs_samples[i]][0:SEQ_LEN-1:SEQ_LEN//imgs_per_samples])\n",
        "  imgs_flow_y.append(train_flow_y[imgs_samples[i]][0:SEQ_LEN-1:SEQ_LEN//imgs_per_samples])\n",
        "\n",
        "#show_images(imgs_gray, cols = 1, titles = \"Grayscale Images\")\n",
        "\n",
        "print(imgs_samples)\n",
        "img_sample = imgs_samples[0]\n",
        "\n",
        "\n",
        "print(np.array(imgs_flow_y).shape)\n",
        "#plt.show(imgs_gray[img_sample].reshape(IMG_W, IMG_H))\n",
        "\n",
        "\n",
        "reshaped_imgs_gray = []\n",
        "reshaped_imgs_flow_x = []\n",
        "reshaped_imgs_flow_y = []\n",
        "for i in range(len(imgs_samples)):\n",
        "  for j in range(len(imgs_gray[i])):\n",
        "    imgs_gray_class.append(CATEGORIES[y_train[imgs_samples[i]]])\n",
        "    reshaped_imgs_gray.append(imgs_gray[i][j].reshape(IMG_W, IMG_H))\n",
        "    reshaped_imgs_flow_x.append(imgs_flow_x[i][j].reshape(IMG_W//2, IMG_H//2))\n",
        "    reshaped_imgs_flow_y.append(imgs_flow_y[i][j].reshape(IMG_W//2, IMG_H//2))\n",
        "\n",
        "print(\"-\"*100)\n",
        "print(\"Grayscale Images : \")\n",
        "show_images(reshaped_imgs_gray, cols = imgs_samples_size, titles = imgs_gray_class)\n",
        "print(\"-\"*100)\n",
        "print(\"Farneback Flow x Images : \")\n",
        "show_images(reshaped_imgs_flow_x, cols = imgs_samples_size, titles = imgs_gray_class)\n",
        "print(\"-\"*100)\n",
        "print(\"Farneback Flow y Images : \")\n",
        "show_images(reshaped_imgs_flow_y, cols = imgs_samples_size, titles = imgs_gray_class)"
      ]
    },
    {
      "cell_type": "markdown",
      "metadata": {
        "id": "CQ0APRb6VH4e"
      },
      "source": [
        "Convolution Neural Network 3d model"
      ]
    },
    {
      "cell_type": "code",
      "execution_count": null,
      "metadata": {
        "id": "8VP7TaF6D961"
      },
      "outputs": [],
      "source": [
        "import keras\n",
        "from keras.models import Sequential, Model\n",
        "from keras.layers import Dense, Dropout, BatchNormalization, Flatten\n",
        "from keras.layers import concatenate, Input, ZeroPadding2D, Conv2D, MaxPooling2D, Activation, add, GlobalAveragePooling1D\n",
        "from keras.layers import ZeroPadding3D, Conv3D, MaxPooling3D\n",
        "from keras.utils import to_categorical\n",
        "from keras.preprocessing import image\n",
        "import numpy as np\n",
        "import pandas as pd\n",
        "import matplotlib.pyplot as plt\n",
        "import tensorflow as tf\n",
        "from tensorflow.keras.utils import plot_model\n",
        "from keras.callbacks import ModelCheckpoint\n",
        "from keras.optimizers import Adam,SGD\n",
        "from keras.layers import average, concatenate, Input, ZeroPadding2D, Conv2D, MaxPooling2D, Activation, add, GlobalAveragePooling1D\n"
      ]
    },
    {
      "cell_type": "code",
      "execution_count": null,
      "metadata": {
        "id": "gEZi1Q9nEeEJ"
      },
      "outputs": [],
      "source": [
        "\n",
        "from keras.utils import to_categorical\n",
        "y_train = to_categorical(y_train)\n",
        "y_dev = to_categorical(y_dev)\n",
        "y_test = to_categorical(y_test)\n"
      ]
    },
    {
      "cell_type": "code",
      "execution_count": null,
      "metadata": {
        "id": "TV-7YnrdBImJ"
      },
      "outputs": [],
      "source": [
        "def get_3dmodel(name, input_shape, get_feature_vector=True):\n",
        "\n",
        "    # 3D CNN model (VGG Action)\n",
        "    inputs = Input(shape=input_shape)\n",
        "    conv1_1 = Conv3D(16,(1,3,3),activation='relu', name='conv1_1_{}'.format(name))(inputs)\n",
        "    bn1_1 = BatchNormalization()(conv1_1)\n",
        "    conv1_2 = Conv3D(16,(1,3,3),activation='relu',padding='same', name='conv1_2_{}'.format(name))(bn1_1)\n",
        "    pool1_1 = MaxPooling3D(pool_size=(2,2,2),padding='valid', name='pool1_1_{}'.format(name))(conv1_2)\n",
        "\n",
        "    conv2_1 = Conv3D(32,(1,3,3),activation='relu',padding='same', name='conv2_1_{}'.format(name))(pool1_1)\n",
        "    bn2_1 = BatchNormalization()(conv2_1)\n",
        "    conv2_2 = Conv3D(32,(1,3,3),activation='relu',padding='same', name='conv2_2_{}'.format(name))(bn2_1)\n",
        "    pool2_1 = MaxPooling3D(pool_size=(2,2,2),padding='valid', name='pool2_1_{}'.format(name))(conv2_2)\n",
        "\n",
        "    conv3_1 = Conv3D(64,(1,3,3),activation='relu',padding='same', name='conv3_1_{}'.format(name))(pool2_1)\n",
        "    bn3_1 = BatchNormalization()(conv3_1)\n",
        "    conv3_2 = Conv3D(64,(1,3,3),activation='relu',padding='same', name='conv3_2_{}'.format(name))(bn3_1)\n",
        "    pool3_1 = MaxPooling3D(pool_size=(2,2,2),padding='valid', name='pool3_1_{}'.format(name))(conv3_2)\n",
        "\n",
        "    conv4_1 = Conv3D(128,(1,3,3),activation='relu',padding='same', name='conv4_1_{}'.format(name))(pool3_1)\n",
        "    bn4_1 = BatchNormalization()(conv4_1)\n",
        "    conv4_2 = Conv3D(128,(1,3,3),activation='relu',padding='same', name='conv4_2_{}'.format(name))(bn4_1)\n",
        "    pool4_1 = MaxPooling3D(pool_size=(2,2,2),padding='valid', name='pool4_1_{}'.format(name))(conv4_2)\n",
        "\n",
        "    flatten = Flatten()(pool4_1)\n",
        "    dense4_1 = Dense(512,activation='relu', name='fc4_1_{}'.format(name))(flatten)\n",
        "    dropout4_1 = Dropout(0.3)(dense4_1)\n",
        "    bn4_1 = BatchNormalization()(dropout4_1)\n",
        "    dropout4_2 = Dropout(0.5)(bn4_1)\n",
        "    dense4_2 = Dense(256,activation='relu', name='fc4_2_{}'.format(name))(dropout4_2)\n",
        "\n",
        "    if get_feature_vector:\n",
        "      return dense4_2, inputs\n",
        "    dropout4_3 = Dropout(0.5)(dense4_2)\n",
        "    dense4_3 = Dense(NCLASSES, name='fc4_3_{}'.format(name))(dropout4_3)\n",
        "    softmax = Activation('softmax')(dense4_3)\n",
        "\n",
        "    return Model(inputs=inputs, outputs=softmax), inputs"
      ]
    },
    {
      "cell_type": "code",
      "execution_count": null,
      "metadata": {
        "id": "I-2CSelCFOCf",
        "colab": {
          "base_uri": "https://localhost:8080/"
        },
        "outputId": "b2f59cc6-24c1-459a-bc42-80d97ea35d7a"
      },
      "outputs": [
        {
          "output_type": "stream",
          "name": "stdout",
          "text": [
            "Model: \"model_2\"\n",
            "__________________________________________________________________________________________________\n",
            " Layer (type)                   Output Shape         Param #     Connected to                     \n",
            "==================================================================================================\n",
            " input_1 (InputLayer)           [(None, 30, 60, 80,  0           []                               \n",
            "                                 1)]                                                              \n",
            "                                                                                                  \n",
            " input_2 (InputLayer)           [(None, 58, 30, 40,  0           []                               \n",
            "                                 1)]                                                              \n",
            "                                                                                                  \n",
            " conv1_1_spatial_net (Conv3D)   (None, 30, 58, 78,   160         ['input_1[0][0]']                \n",
            "                                16)                                                               \n",
            "                                                                                                  \n",
            " conv1_1_temporal_net (Conv3D)  (None, 58, 28, 38,   160         ['input_2[0][0]']                \n",
            "                                16)                                                               \n",
            "                                                                                                  \n",
            " conv1_12_spatial_net (Conv3D)  (None, 30, 56, 76,   2320        ['conv1_1_spatial_net[0][0]']    \n",
            "                                16)                                                               \n",
            "                                                                                                  \n",
            " conv1_12_temporal_net (Conv3D)  (None, 58, 26, 36,   2320       ['conv1_1_temporal_net[0][0]']   \n",
            "                                16)                                                               \n",
            "                                                                                                  \n",
            " batch_normalization (BatchNorm  (None, 30, 56, 76,   64         ['conv1_12_spatial_net[0][0]']   \n",
            " alization)                     16)                                                               \n",
            "                                                                                                  \n",
            " batch_normalization_5 (BatchNo  (None, 58, 26, 36,   64         ['conv1_12_temporal_net[0][0]']  \n",
            " rmalization)                   16)                                                               \n",
            "                                                                                                  \n",
            " conv1_2_spatial_net (Conv3D)   (None, 30, 56, 76,   2320        ['batch_normalization[0][0]']    \n",
            "                                16)                                                               \n",
            "                                                                                                  \n",
            " conv1_2_temporal_net (Conv3D)  (None, 58, 26, 36,   2320        ['batch_normalization_5[0][0]']  \n",
            "                                16)                                                               \n",
            "                                                                                                  \n",
            " pool1_1_spatial_net (MaxPoolin  (None, 15, 28, 38,   0          ['conv1_2_spatial_net[0][0]']    \n",
            " g3D)                           16)                                                               \n",
            "                                                                                                  \n",
            " pool1_1_temporal_net (MaxPooli  (None, 29, 13, 18,   0          ['conv1_2_temporal_net[0][0]']   \n",
            " ng3D)                          16)                                                               \n",
            "                                                                                                  \n",
            " conv2_1_spatial_net (Conv3D)   (None, 15, 28, 38,   4640        ['pool1_1_spatial_net[0][0]']    \n",
            "                                32)                                                               \n",
            "                                                                                                  \n",
            " conv2_1_temporal_net (Conv3D)  (None, 29, 13, 18,   4640        ['pool1_1_temporal_net[0][0]']   \n",
            "                                32)                                                               \n",
            "                                                                                                  \n",
            " conv2_12_spatial_net (Conv3D)  (None, 15, 28, 38,   9248        ['conv2_1_spatial_net[0][0]']    \n",
            "                                32)                                                               \n",
            "                                                                                                  \n",
            " conv2_12_temporal_net (Conv3D)  (None, 29, 13, 18,   9248       ['conv2_1_temporal_net[0][0]']   \n",
            "                                32)                                                               \n",
            "                                                                                                  \n",
            " batch_normalization_1 (BatchNo  (None, 15, 28, 38,   128        ['conv2_12_spatial_net[0][0]']   \n",
            " rmalization)                   32)                                                               \n",
            "                                                                                                  \n",
            " batch_normalization_6 (BatchNo  (None, 29, 13, 18,   128        ['conv2_12_temporal_net[0][0]']  \n",
            " rmalization)                   32)                                                               \n",
            "                                                                                                  \n",
            " conv2_2_spatial_net (Conv3D)   (None, 15, 28, 38,   9248        ['batch_normalization_1[0][0]']  \n",
            "                                32)                                                               \n",
            "                                                                                                  \n",
            " conv2_2_temporal_net (Conv3D)  (None, 29, 13, 18,   9248        ['batch_normalization_6[0][0]']  \n",
            "                                32)                                                               \n",
            "                                                                                                  \n",
            " pool2_1_spatial_net (MaxPoolin  (None, 7, 14, 19, 3  0          ['conv2_2_spatial_net[0][0]']    \n",
            " g3D)                           2)                                                                \n",
            "                                                                                                  \n",
            " pool2_1_temporal_net (MaxPooli  (None, 14, 6, 9, 32  0          ['conv2_2_temporal_net[0][0]']   \n",
            " ng3D)                          )                                                                 \n",
            "                                                                                                  \n",
            " conv3_1_spatial_net (Conv3D)   (None, 7, 14, 19, 6  18496       ['pool2_1_spatial_net[0][0]']    \n",
            "                                4)                                                                \n",
            "                                                                                                  \n",
            " conv3_1_temporal_net (Conv3D)  (None, 14, 6, 9, 64  18496       ['pool2_1_temporal_net[0][0]']   \n",
            "                                )                                                                 \n",
            "                                                                                                  \n",
            " conv3_12_spatial_net (Conv3D)  (None, 7, 14, 19, 6  36928       ['conv3_1_spatial_net[0][0]']    \n",
            "                                4)                                                                \n",
            "                                                                                                  \n",
            " conv3_12_temporal_net (Conv3D)  (None, 14, 6, 9, 64  36928      ['conv3_1_temporal_net[0][0]']   \n",
            "                                )                                                                 \n",
            "                                                                                                  \n",
            " batch_normalization_2 (BatchNo  (None, 7, 14, 19, 6  256        ['conv3_12_spatial_net[0][0]']   \n",
            " rmalization)                   4)                                                                \n",
            "                                                                                                  \n",
            " batch_normalization_7 (BatchNo  (None, 14, 6, 9, 64  256        ['conv3_12_temporal_net[0][0]']  \n",
            " rmalization)                   )                                                                 \n",
            "                                                                                                  \n",
            " conv3_2_spatial_net (Conv3D)   (None, 7, 14, 19, 6  36928       ['batch_normalization_2[0][0]']  \n",
            "                                4)                                                                \n",
            "                                                                                                  \n",
            " conv3_2_temporal_net (Conv3D)  (None, 14, 6, 9, 64  36928       ['batch_normalization_7[0][0]']  \n",
            "                                )                                                                 \n",
            "                                                                                                  \n",
            " pool3_1_spatial_net (MaxPoolin  (None, 3, 7, 9, 64)  0          ['conv3_2_spatial_net[0][0]']    \n",
            " g3D)                                                                                             \n",
            "                                                                                                  \n",
            " pool3_1_temporal_net (MaxPooli  (None, 7, 3, 4, 64)  0          ['conv3_2_temporal_net[0][0]']   \n",
            " ng3D)                                                                                            \n",
            "                                                                                                  \n",
            " conv4_1_spatial_net (Conv3D)   (None, 3, 7, 9, 128  73856       ['pool3_1_spatial_net[0][0]']    \n",
            "                                )                                                                 \n",
            "                                                                                                  \n",
            " conv4_1_temporal_net (Conv3D)  (None, 7, 3, 4, 128  73856       ['pool3_1_temporal_net[0][0]']   \n",
            "                                )                                                                 \n",
            "                                                                                                  \n",
            " conv4_12_spatial_net (Conv3D)  (None, 3, 7, 9, 128  147584      ['conv4_1_spatial_net[0][0]']    \n",
            "                                )                                                                 \n",
            "                                                                                                  \n",
            " conv4_12_temporal_net (Conv3D)  (None, 7, 3, 4, 128  147584     ['conv4_1_temporal_net[0][0]']   \n",
            "                                )                                                                 \n",
            "                                                                                                  \n",
            " batch_normalization_3 (BatchNo  (None, 3, 7, 9, 128  512        ['conv4_12_spatial_net[0][0]']   \n",
            " rmalization)                   )                                                                 \n",
            "                                                                                                  \n",
            " batch_normalization_8 (BatchNo  (None, 7, 3, 4, 128  512        ['conv4_12_temporal_net[0][0]']  \n",
            " rmalization)                   )                                                                 \n",
            "                                                                                                  \n",
            " conv4_2_spatial_net (Conv3D)   (None, 3, 7, 9, 128  147584      ['batch_normalization_3[0][0]']  \n",
            "                                )                                                                 \n",
            "                                                                                                  \n",
            " conv4_2_temporal_net (Conv3D)  (None, 7, 3, 4, 128  147584      ['batch_normalization_8[0][0]']  \n",
            "                                )                                                                 \n",
            "                                                                                                  \n",
            " pool4_1_spatial_net (MaxPoolin  (None, 1, 3, 4, 128  0          ['conv4_2_spatial_net[0][0]']    \n",
            " g3D)                           )                                                                 \n",
            "                                                                                                  \n",
            " pool4_1_temporal_net (MaxPooli  (None, 3, 1, 2, 128  0          ['conv4_2_temporal_net[0][0]']   \n",
            " ng3D)                          )                                                                 \n",
            "                                                                                                  \n",
            " flatten (Flatten)              (None, 1536)         0           ['pool4_1_spatial_net[0][0]']    \n",
            "                                                                                                  \n",
            " flatten_1 (Flatten)            (None, 768)          0           ['pool4_1_temporal_net[0][0]']   \n",
            "                                                                                                  \n",
            " fc4_1_spatial_net (Dense)      (None, 512)          786944      ['flatten[0][0]']                \n",
            "                                                                                                  \n",
            " fc4_1_temporal_net (Dense)     (None, 512)          393728      ['flatten_1[0][0]']              \n",
            "                                                                                                  \n",
            " dropout (Dropout)              (None, 512)          0           ['fc4_1_spatial_net[0][0]']      \n",
            "                                                                                                  \n",
            " dropout_3 (Dropout)            (None, 512)          0           ['fc4_1_temporal_net[0][0]']     \n",
            "                                                                                                  \n",
            " batch_normalization_4 (BatchNo  (None, 512)         2048        ['dropout[0][0]']                \n",
            " rmalization)                                                                                     \n",
            "                                                                                                  \n",
            " batch_normalization_9 (BatchNo  (None, 512)         2048        ['dropout_3[0][0]']              \n",
            " rmalization)                                                                                     \n",
            "                                                                                                  \n",
            " dropout_1 (Dropout)            (None, 512)          0           ['batch_normalization_4[0][0]']  \n",
            "                                                                                                  \n",
            " dropout_4 (Dropout)            (None, 512)          0           ['batch_normalization_9[0][0]']  \n",
            "                                                                                                  \n",
            " fc4_2_spatial_net (Dense)      (None, 256)          131328      ['dropout_1[0][0]']              \n",
            "                                                                                                  \n",
            " fc4_2_temporal_net (Dense)     (None, 256)          131328      ['dropout_4[0][0]']              \n",
            "                                                                                                  \n",
            " dropout_2 (Dropout)            (None, 256)          0           ['fc4_2_spatial_net[0][0]']      \n",
            "                                                                                                  \n",
            " dropout_5 (Dropout)            (None, 256)          0           ['fc4_2_temporal_net[0][0]']     \n",
            "                                                                                                  \n",
            " fc4_3_spatial_net (Dense)      (None, 6)            1542        ['dropout_2[0][0]']              \n",
            "                                                                                                  \n",
            " fc4_3_temporal_net (Dense)     (None, 6)            1542        ['dropout_5[0][0]']              \n",
            "                                                                                                  \n",
            " activation (Activation)        (None, 6)            0           ['fc4_3_spatial_net[0][0]']      \n",
            "                                                                                                  \n",
            " activation_1 (Activation)      (None, 6)            0           ['fc4_3_temporal_net[0][0]']     \n",
            "                                                                                                  \n",
            " average (Average)              (None, 6)            0           ['activation[0][0]',             \n",
            "                                                                  'activation_1[0][0]']           \n",
            "                                                                                                  \n",
            "==================================================================================================\n",
            "Total params: 2,431,052\n",
            "Trainable params: 2,428,044\n",
            "Non-trainable params: 3,008\n",
            "__________________________________________________________________________________________________\n"
          ]
        }
      ],
      "source": [
        "\n",
        "spatial_net, spatial_input = get_3dmodel(name='spatial_net', input_shape = SPACIALNET_INPUT_SHAPE, get_feature_vector=False)\n",
        "temporal_net, temporal_input = get_3dmodel(name='temporal_net', input_shape = TEMPORALNET_INPUT_SHAPE_2x, get_feature_vector=False)\n",
        "\n",
        "inputs = [spatial_net.input, temporal_net.input]\n",
        "outputs = average([spatial_net.output, temporal_net.output])\n",
        "model = Model(inputs, outputs)\n",
        "model.summary()"
      ]
    },
    {
      "cell_type": "code",
      "execution_count": null,
      "metadata": {
        "id": "9EpUF9IEHsH4",
        "colab": {
          "base_uri": "https://localhost:8080/"
        },
        "outputId": "fb2d7928-adbe-4243-f4d3-c2ed9a6c7a99"
      },
      "outputs": [
        {
          "output_type": "execute_result",
          "data": {
            "text/plain": [
              "((3960, 30, 60, 80, 1), (3960, 58, 30, 40, 1))"
            ]
          },
          "metadata": {},
          "execution_count": 13
        }
      ],
      "source": [
        "\n",
        "train_spatial_data = X_train\n",
        "train_temporal_data = np.concatenate((train_flow_x, train_flow_y), axis=1)\n",
        "\n",
        "\n",
        "dev_spatial_data = X_dev\n",
        "dev_temporal_data = np.concatenate((dev_flow_x, dev_flow_y), axis=1)\n",
        "\n",
        "\n",
        "test_spatial_data = X_test\n",
        "test_temporal_data = np.concatenate((test_flow_x, test_flow_y), axis=1)\n",
        "\n",
        "train_spatial_data.shape, train_temporal_data.shape"
      ]
    },
    {
      "cell_type": "code",
      "execution_count": null,
      "metadata": {
        "id": "cqJZXrmnFcKC"
      },
      "outputs": [],
      "source": [
        "checkpoint_filepath=\"/content/drive/MyDrive/public_assault/model.h5\"\n",
        "checkpointer = ModelCheckpoint(checkpoint_filepath,monitor='val_accuracy',mode='max',verbose=1, save_best_only=True)\n",
        "\n",
        "model.compile(optimizer = Adam(0.001),loss='categorical_crossentropy', metrics=['accuracy'])\n",
        "\n",
        "trained_model = model.fit([train_spatial_data,train_temporal_data ], y_train, epochs = 100, batch_size = 16, validation_data=([dev_spatial_data,dev_temporal_data ], y_dev),callbacks = [checkpointer])"
      ]
    },
    {
      "cell_type": "code",
      "execution_count": null,
      "metadata": {
        "colab": {
          "base_uri": "https://localhost:8080/",
          "height": 573
        },
        "id": "lSQN3OyXQUas",
        "outputId": "50b75fad-7de9-4b2d-c59a-0a0a690c4da6"
      },
      "outputs": [
        {
          "data": {
            "image/png": "[encoded data removed]",
            "text/plain": [
              "<Figure size 432x288 with 1 Axes>"
            ]
          },
          "metadata": {},
          "output_type": "display_data"
        },
        {
          "data": {
            "image/png": "[encoded data removed]",
            "text/plain": [
              "<Figure size 432x288 with 1 Axes>"
            ]
          },
          "metadata": {},
          "output_type": "display_data"
        }
      ],
      "source": [
        "import matplotlib.pyplot as plt\n",
        "# Plot training & validation accuracy values\n",
        "plt.plot(trained_model.history['accuracy'])\n",
        "plt.plot(trained_model.history['val_accuracy'])\n",
        "plt.title('Model accuracy')\n",
        "plt.ylabel('Accuracy')\n",
        "plt.xlabel('Epoch')\n",
        "plt.legend(['Train', 'Test'], loc='upper left')\n",
        "plt.show()\n",
        "\n",
        "# Plot training & validation loss values\n",
        "plt.plot(trained_model.history['loss'])\n",
        "plt.plot(trained_model.history['val_loss'])\n",
        "plt.title('Model loss')\n",
        "plt.ylabel('Loss')\n",
        "plt.xlabel('Epoch')\n",
        "plt.legend(['Train', 'Test'], loc='upper left')\n",
        "plt.show()\n"
      ]
    },
    {
      "cell_type": "code",
      "source": [
        "# Confusion matrix\n",
        "from sklearn.metrics import confusion_matrix,classification_report\n",
        "import matplotlib.pyplot as plt\n",
        "import itertools\n",
        "\n",
        "def plot_confusion_matrix(cm, classes,\n",
        "                          normalize=False,\n",
        "                          title='Confusion matrix',\n",
        "                          cmap=plt.cm.Blues):\n",
        "\n",
        "    plt.imshow(cm, interpolation='nearest', cmap=cmap)\n",
        "    plt.title(title)\n",
        "    plt.colorbar()\n",
        "    tick_marks = np.arange(len(classes))\n",
        "    plt.xticks(tick_marks, classes, rotation=45)\n",
        "    plt.yticks(tick_marks, classes)\n",
        "\n",
        "    if normalize:\n",
        "        cm = cm.astype('float') / cm.sum(axis=1)[:, np.newaxis]\n",
        "\n",
        "    thresh = cm.max() / 2.\n",
        "    for i, j in itertools.product(range(cm.shape[0]), range(cm.shape[1])):\n",
        "        plt.text(j, i, cm[i, j],\n",
        "                 horizontalalignment=\"center\",\n",
        "                 color=\"white\" if cm[i, j] > thresh else \"black\")\n",
        "\n",
        "    plt.tight_layout()\n",
        "    plt.ylabel('True label')\n",
        "    plt.xlabel('Predicted label')\n",
        "model = load_model(\"/content/drive/MyDrive/public_assault/model.h5\")\n",
        "Y_pred = model.predict([test_spatial_data, test_temporal_data])\n",
        "Y_pred_classes = np.argmax(Y_pred,axis = 1)\n",
        "Y_true = np.argmax(y_test, axis = 1)\n",
        "confusion_mtx = confusion_matrix(Y_true, Y_pred_classes)\n",
        "plot_confusion_matrix(confusion_mtx, classes = CATEGORIES)\n"
      ],
      "metadata": {
        "colab": {
          "base_uri": "https://localhost:8080/",
          "height": 328
        },
        "id": "aBE7KsIoAn5o",
        "outputId": "9a0fca5f-ff9c-48d1-9f9f-4707539d4c4b"
      },
      "execution_count": null,
      "outputs": [
        {
          "output_type": "stream",
          "name": "stdout",
          "text": [
            "38/38 [==============================] - 3s 76ms/step\n"
          ]
        },
        {
          "output_type": "display_data",
          "data": {
            "text/plain": [
              "<Figure size 432x288 with 2 Axes>"
            ],
            "image/png": "[encoded data removed]"
          },
          "metadata": {
            "needs_background": "light"
          }
        }
      ]
    },
    {
      "cell_type": "code",
      "source": [
        "tp,fp,fn,tn"
      ],
      "metadata": {
        "id": "IRdLDStPA7Bk"
      },
      "execution_count": null,
      "outputs": []
    },
    {
      "cell_type": "code",
      "source": [
        "tp/tp+fp"
      ],
      "metadata": {
        "id": "kAyNCSt3BFa8"
      },
      "execution_count": null,
      "outputs": []
    },
    {
      "cell_type": "code",
      "source": [
        "from sklearn.metrics import classification_report\n",
        "print(classification_report(Y_true, Y_pred_classes, target_names=CATEGORIES))"
      ],
      "metadata": {
        "colab": {
          "base_uri": "https://localhost:8080/"
        },
        "id": "5UPx1aUZjlpA",
        "outputId": "f7f93ed8-8580-4769-d7d3-81525ab59acf"
      },
      "execution_count": null,
      "outputs": [
        {
          "output_type": "stream",
          "name": "stdout",
          "text": [
            "              precision    recall  f1-score   support\n",
            "\n",
            "    violence       1.00      1.00      1.00       457\n",
            "handclapping       1.00      0.99      1.00       170\n",
            "  handwaving       1.00      1.00      1.00       210\n",
            "     jogging       0.90      0.84      0.87       102\n",
            "     running       0.87      0.88      0.88        68\n",
            "     walking       0.96      0.98      0.97       186\n",
            "\n",
            "    accuracy                           0.98      1193\n",
            "   macro avg       0.95      0.95      0.95      1193\n",
            "weighted avg       0.98      0.98      0.98      1193\n",
            "\n"
          ]
        }
      ]
    },
    {
      "cell_type": "code",
      "source": [
        "model = load_model(\"/content/drive/MyDrive/public_assault/model.h5\")\n",
        "Y_pred = model.predict([test_spatial_data, test_temporal_data])\n",
        "Y_pred_classes = np.argmax(Y_pred,axis = 1)\n",
        "Y_true = np.argmax(y_test, axis = 1)\n",
        "from sklearn.metrics import accuracy_score\n",
        "accuracy_score = accuracy_score(Y_true, Y_pred_classes)\n",
        "print('Accuracy:', accuracy_score)"
      ],
      "metadata": {
        "colab": {
          "base_uri": "https://localhost:8080/"
        },
        "id": "BSIS1MqWDxWC",
        "outputId": "711f4199-8621-42c6-d4f7-ece568923319"
      },
      "execution_count": null,
      "outputs": [
        {
          "output_type": "stream",
          "name": "stdout",
          "text": [
            "Accuracy: 0.9765297569153395\n"
          ]
        }
      ]
    }
  ],
  "metadata": {
    "colab": {
      "provenance": [],
      "gpuClass": "premium"
    },
    "gpuClass": "premium",
    "kernelspec": {
      "display_name": "Python 3",
      "name": "python3"
    }
  },
  "nbformat": 4,
  "nbformat_minor": 0
}